{
  "nbformat": 4,
  "nbformat_minor": 0,
  "metadata": {
    "colab": {
      "provenance": []
    },
    "kernelspec": {
      "name": "python3",
      "display_name": "Python 3"
    },
    "language_info": {
      "name": "python"
    }
  },
  "cells": [
    {
      "cell_type": "markdown",
      "source": [
        "Name : Kavana M S    Date : 14-09-2024"
      ],
      "metadata": {
        "id": "UW-gM9I_T2bj"
      }
    },
    {
      "cell_type": "markdown",
      "source": [
        "part 1: Lists\n",
        "1)Creating and accessing of elements from a list"
      ],
      "metadata": {
        "id": "L0tfJKe_UAjx"
      }
    },
    {
      "cell_type": "code",
      "execution_count": null,
      "metadata": {
        "colab": {
          "base_uri": "https://localhost:8080/"
        },
        "id": "Yn-Yc9NcTiHw",
        "outputId": "8720cd9a-262a-4407-dec0-f8914e1fb0c1"
      },
      "outputs": [
        {
          "output_type": "stream",
          "name": "stdout",
          "text": [
            "mango cherry\n"
          ]
        }
      ],
      "source": [
        "fruits=[\"apple\",\"mango\",\"banana\",\"cherry\",\"litchi\"] #list of fruits\n",
        "print(fruits[1],fruits[3]) #accessing second and fourth element from the list"
      ]
    },
    {
      "cell_type": "markdown",
      "source": [
        "2) Modifying a list"
      ],
      "metadata": {
        "id": "GoRYJOQYXl6n"
      }
    },
    {
      "cell_type": "code",
      "source": [
        "fruits = [\"apple\", \"mango\", \"banana\", \"cherry\", \"litchi\"]  # list of fruits\n",
        "fruits.append(\"orange\")  # Add \"orange\" to the list\n",
        "print(fruits)\n",
        "fruits[2] = \"strawberry\"  # Change the third element (index 2) to \"strawberry\"\n",
        "print(fruits)\n",
        "fruits_2 = fruits.pop()  # Remove the last element from the list and store it in fruits_2\n",
        "print(fruits)  # Print the removed element\n"
      ],
      "metadata": {
        "colab": {
          "base_uri": "https://localhost:8080/"
        },
        "id": "OaaOvvbxX8Sc",
        "outputId": "12fca9e8-b7ba-4001-b48e-d9d33ef9aae7"
      },
      "execution_count": null,
      "outputs": [
        {
          "output_type": "stream",
          "name": "stdout",
          "text": [
            "['apple', 'mango', 'banana', 'cherry', 'litchi', 'orange']\n",
            "['apple', 'mango', 'strawberry', 'cherry', 'litchi', 'orange']\n",
            "['apple', 'mango', 'strawberry', 'cherry', 'litchi']\n"
          ]
        }
      ]
    },
    {
      "cell_type": "markdown",
      "source": [
        "3) List Methods"
      ],
      "metadata": {
        "id": "l5pcMdcejdV_"
      }
    },
    {
      "cell_type": "code",
      "source": [
        "fruits = [\"apple\", \"mango\", \"banana\",\"apple\", \"cherry\", \"litchi\",\"apple\"]\n",
        "fruits.sort()  # Sort the list in ascending order\n",
        "print(fruits)\n",
        "fruits.reverse()  # Reverse the order of elements in the list\n",
        "print(fruits)\n",
        "print(fruits.count(\"apple\"))  # Count the occurrences of \"apple\" in the list\n"
      ],
      "metadata": {
        "colab": {
          "base_uri": "https://localhost:8080/"
        },
        "id": "OUPLwxZRhGad",
        "outputId": "fa2a7555-bb03-4166-ff66-1fcb610e010a"
      },
      "execution_count": null,
      "outputs": [
        {
          "output_type": "stream",
          "name": "stdout",
          "text": [
            "['apple', 'apple', 'apple', 'banana', 'cherry', 'litchi', 'mango']\n",
            "['mango', 'litchi', 'cherry', 'banana', 'apple', 'apple', 'apple']\n",
            "3\n"
          ]
        }
      ]
    },
    {
      "cell_type": "markdown",
      "source": [
        "Part 2 : Tuples\n",
        "1) Create and access elements"
      ],
      "metadata": {
        "id": "hYSlgKdHkEse"
      }
    },
    {
      "cell_type": "code",
      "source": [
        "num=(10,20,30,40,50)\n",
        "print(num[0]) #printing 1st element\n",
        "print(num[4]) #printing last element"
      ],
      "metadata": {
        "colab": {
          "base_uri": "https://localhost:8080/"
        },
        "id": "nS6U47Hcj7-m",
        "outputId": "4fc199dd-cd7b-4c83-a43d-77e5fe3ee796"
      },
      "execution_count": null,
      "outputs": [
        {
          "output_type": "stream",
          "name": "stdout",
          "text": [
            "10\n",
            "50\n"
          ]
        }
      ]
    },
    {
      "cell_type": "markdown",
      "source": [
        "2) Immutable nature of tuples"
      ],
      "metadata": {
        "id": "YcA0TElVlgf8"
      }
    },
    {
      "cell_type": "code",
      "source": [
        "num=(10,20,30,40,50)\n",
        "num[2]=25 #trying to change the values in the tuple"
      ],
      "metadata": {
        "colab": {
          "base_uri": "https://localhost:8080/",
          "height": 159
        },
        "id": "SeDJulsIknE5",
        "outputId": "cc1a1b11-1a75-460a-8fb5-429a5b8b7aab"
      },
      "execution_count": null,
      "outputs": [
        {
          "output_type": "error",
          "ename": "TypeError",
          "evalue": "'tuple' object does not support item assignment",
          "traceback": [
            "\u001b[0;31m---------------------------------------------------------------------------\u001b[0m",
            "\u001b[0;31mTypeError\u001b[0m                                 Traceback (most recent call last)",
            "\u001b[0;32m<ipython-input-30-d29b7926aedf>\u001b[0m in \u001b[0;36m<cell line: 2>\u001b[0;34m()\u001b[0m\n\u001b[1;32m      1\u001b[0m \u001b[0mnum\u001b[0m\u001b[0;34m=\u001b[0m\u001b[0;34m(\u001b[0m\u001b[0;36m10\u001b[0m\u001b[0;34m,\u001b[0m\u001b[0;36m20\u001b[0m\u001b[0;34m,\u001b[0m\u001b[0;36m30\u001b[0m\u001b[0;34m,\u001b[0m\u001b[0;36m40\u001b[0m\u001b[0;34m,\u001b[0m\u001b[0;36m50\u001b[0m\u001b[0;34m)\u001b[0m\u001b[0;34m\u001b[0m\u001b[0;34m\u001b[0m\u001b[0m\n\u001b[0;32m----> 2\u001b[0;31m \u001b[0mnum\u001b[0m\u001b[0;34m[\u001b[0m\u001b[0;36m2\u001b[0m\u001b[0;34m]\u001b[0m\u001b[0;34m=\u001b[0m\u001b[0;36m25\u001b[0m\u001b[0;34m\u001b[0m\u001b[0;34m\u001b[0m\u001b[0m\n\u001b[0m",
            "\u001b[0;31mTypeError\u001b[0m: 'tuple' object does not support item assignment"
          ]
        }
      ]
    },
    {
      "cell_type": "markdown",
      "source": [
        "3) Tuple Operation"
      ],
      "metadata": {
        "id": "3jA6Vh16-ulB"
      }
    },
    {
      "cell_type": "code",
      "source": [
        "num=(10,20,30,40,50)\n",
        "a,b,c,d,e=num #assigning the values of the tuples to 5 different variables\n",
        "print(\"a=\",a)\n",
        "print(\"b=\",b)\n",
        "print(\"c=\",c)\n",
        "print(\"d=\",d)\n",
        "print(\"e=\",e)"
      ],
      "metadata": {
        "id": "J93ylHwklunI",
        "colab": {
          "base_uri": "https://localhost:8080/"
        },
        "outputId": "d05a6f46-b9e6-4f66-d445-c2e35f13ed66"
      },
      "execution_count": 3,
      "outputs": [
        {
          "output_type": "stream",
          "name": "stdout",
          "text": [
            "a= 10\n",
            "b= 20\n",
            "c= 30\n",
            "d= 40\n",
            "e= 50\n"
          ]
        }
      ]
    },
    {
      "cell_type": "markdown",
      "source": [
        "Part 3: Dictionaries\n",
        "1) Create and access elements"
      ],
      "metadata": {
        "id": "ojIQ7_p3Ao0b"
      }
    },
    {
      "cell_type": "code",
      "source": [
        "dict_1={\"name\":\"john\",\"age\":\"20\",\"subject\":[\"math\",\"physics\",\"chemistry\"]}\n",
        "print(dict_1[\"age\"])"
      ],
      "metadata": {
        "colab": {
          "base_uri": "https://localhost:8080/"
        },
        "id": "uD7wrt_2A4Qw",
        "outputId": "4cdbe09b-2c2e-4cca-b19a-cec23195c567"
      },
      "execution_count": 4,
      "outputs": [
        {
          "output_type": "stream",
          "name": "stdout",
          "text": [
            "20\n"
          ]
        }
      ]
    },
    {
      "cell_type": "markdown",
      "source": [
        "2) Modify the dictionary"
      ],
      "metadata": {
        "id": "LCGbCFuWA3PA"
      }
    },
    {
      "cell_type": "code",
      "source": [
        "dict_1={\"name\":\"john\",\"age\":\"20\",\"subject\":[\"math\",\"physics\",\"chemistry\"]}\n",
        "dict_1[\"grade\"]=\"A\" #adding new value to dictionary\n",
        "dict_1[\"age\"]=21 #changing the value of age\n",
        "dict_1.pop(\"subject\") #removing the subject key\n",
        "print(dict_1)"
      ],
      "metadata": {
        "colab": {
          "base_uri": "https://localhost:8080/"
        },
        "id": "i752Ky2r_6Aj",
        "outputId": "1ac80d17-8961-4969-f239-fed2ab8cbeab"
      },
      "execution_count": 9,
      "outputs": [
        {
          "output_type": "stream",
          "name": "stdout",
          "text": [
            "{'name': 'john', 'age': 21, 'grade': 'A'}\n"
          ]
        }
      ]
    },
    {
      "cell_type": "markdown",
      "source": [
        "3) Dictionary Methods"
      ],
      "metadata": {
        "id": "kR4f1ChuC--I"
      }
    },
    {
      "cell_type": "code",
      "source": [
        "dict_2={'name': 'john', 'age': 21, 'grade': 'A'}\n",
        "print(dict_2.keys()) #printing the keys of the dictionary\n",
        "print(dict_2.values()) #printing the values of the dictionary"
      ],
      "metadata": {
        "colab": {
          "base_uri": "https://localhost:8080/"
        },
        "id": "MQXJSYojCCp1",
        "outputId": "c607b8c1-bf9d-467c-cec3-0c9265dd6d79"
      },
      "execution_count": 11,
      "outputs": [
        {
          "output_type": "stream",
          "name": "stdout",
          "text": [
            "dict_keys(['name', 'age', 'grade'])\n",
            "dict_values(['john', 21, 'A'])\n"
          ]
        }
      ]
    },
    {
      "cell_type": "code",
      "source": [],
      "metadata": {
        "id": "pDUrufC1DRkC"
      },
      "execution_count": null,
      "outputs": []
    }
  ]
}